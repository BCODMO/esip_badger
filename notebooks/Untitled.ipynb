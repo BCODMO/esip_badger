{
 "cells": [
  {
   "cell_type": "code",
   "execution_count": null,
   "metadata": {
    "collapsed": true
   },
   "outputs": [],
   "source": [
    "| Rounded | Plastic | Flat |\n",
    "|:--------|:--------|:-----|\n",
    "| <img style=\"float:left;\" src=\"http://127.0.0.1:5000/funded.svg\"> | <img style=\"float:left;\" src=\"http://127.0.0.1:5000/funded.svg?style=plastic\"> | <img style=\"float:left;\" src=\"http://127.0.0.1:5000/funded.svg?style=flat-square\"> |\n",
    "| <img style=\"float:left;\" src=\"http://127.0.0.1:5000/testbed.svg\"> | <img style=\"float:left;\" src=\"http://127.0.0.1:5000/testbed.svg?style=plastic\"> | <img style=\"float:left;\" src=\"http://127.0.0.1:5000/testbed.svg?style=flat-square\"> |\n",
    "| <img style=\"float:left;\" src=\"http://127.0.0.1:5000/fundingfriday.svg\"> | <img style=\"float:left;\" src=\"http://127.0.0.1:5000/fundingfriday.svg?style=plastic\"> | <img style=\"float:left;\" src=\"http://127.0.0.1:5000/fundingfriday.svg?style=flat-square\"> |\n",
    "| <img style=\"float:left;\" src=\"http://127.0.0.1:5000/member.svg\"> | <img style=\"float:left;\" src=\"http://127.0.0.1:5000/member.svg?style=plastic\"> | <img style=\"float:left;\" src=\"http://127.0.0.1:5000/member.svg?style=flat-square\"> |\n",
    "| <img style=\"float:left;\" src=\"http://127.0.0.1:5000/collaborator.svg\"> | <img style=\"float:left;\" src=\"http://127.0.0.1:5000/collaborator.svg?style=plastic\"> | <img style=\"float:left;\" src=\"http://127.0.0.1:5000/collaborator.svg?style=flat-square\"> |"
   ]
  },
  {
   "cell_type": "code",
   "execution_count": 21,
   "metadata": {
    "collapsed": false
   },
   "outputs": [
    {
     "name": "stdout",
     "output_type": "stream",
     "text": [
      "Collaborator 12 80.0 81\n",
      "Member 6 52.0 56\n",
      "Funded 6 52.0 51\n",
      "Testbed 7 52.0 55\n",
      "FUNding Friday 14 94.0 95\n"
     ]
    }
   ],
   "source": [
    "import re\n",
    "import math\n",
    "\n",
    "weights = [\n",
    "    ('[iltj]', 0.3),\n",
    "    ('[mw]', 1.4),\n",
    "    ('[ABCDEFGHIJKLNOPQRSTUVXYZ]', 0.8),\n",
    "    ('[MW]', 1.1)\n",
    "]\n",
    "\n",
    "known_width = {\n",
    "    \"Collaborator\": 81,\n",
    "    \"FUNding Friday\": 95,\n",
    "    \"Funded\": 51,\n",
    "    \"Member\": 56,\n",
    "    \"Testbed\": 55\n",
    "}\n",
    "\n",
    "def count(arr, term):\n",
    "    pttn = re.compile(arr)\n",
    "    parts = re.subn(pttn, '', term)\n",
    "    return parts[0], parts[1]\n",
    "\n",
    "# get count by arr, sum three values\n",
    "for term, expected_width in known_width.iteritems():\n",
    "    new_term = term\n",
    "    length = 0\n",
    "    for arr, weight in weights:\n",
    "        new_term, num = count(arr, new_term)\n",
    "        length += round(num * weight)\n",
    "    length += len(new_term)\n",
    "    \n",
    "    estimated_width = length * 7 + 10\n",
    "    \n",
    "    print term, len(term), estimated_width, expected_width\n",
    "    "
   ]
  },
  {
   "cell_type": "code",
   "execution_count": 18,
   "metadata": {
    "collapsed": false
   },
   "outputs": [
    {
     "name": "stdout",
     "output_type": "stream",
     "text": [
      "Coaboraor 0.9\n",
      "Coaboraor 0.0\n",
      "oaboraor 0.8\n",
      "oaboraor 0\n"
     ]
    },
    {
     "data": {
      "text/plain": [
       "80.0"
      ]
     },
     "execution_count": 18,
     "metadata": {},
     "output_type": "execute_result"
    }
   ],
   "source": [
    "new_term = 'Collaborator'\n",
    "length = 0\n",
    "for arr, weight in weights:\n",
    "    new_term, num = count(arr, new_term)\n",
    "    length += round(num * weight)\n",
    "    print new_term, num * weight\n",
    "length += len(new_term)\n",
    "\n",
    "length * 7 + 10"
   ]
  },
  {
   "cell_type": "code",
   "execution_count": null,
   "metadata": {
    "collapsed": true
   },
   "outputs": [],
   "source": []
  }
 ],
 "metadata": {
  "kernelspec": {
   "display_name": "Python 2",
   "language": "python",
   "name": "python2"
  },
  "language_info": {
   "codemirror_mode": {
    "name": "ipython",
    "version": 2
   },
   "file_extension": ".py",
   "mimetype": "text/x-python",
   "name": "python",
   "nbconvert_exporter": "python",
   "pygments_lexer": "ipython2",
   "version": "2.7.10"
  }
 },
 "nbformat": 4,
 "nbformat_minor": 0
}
