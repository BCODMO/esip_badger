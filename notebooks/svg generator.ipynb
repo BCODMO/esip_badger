{
 "cells": [
  {
   "cell_type": "markdown",
   "metadata": {},
   "source": [
    "badge tests - porting the shields javascript svg generator to python\n",
    "\n",
    "the generated shields svg for a badge:\n",
    "\n",
    "```\n",
    "<svg xmlns=\"http://www.w3.org/2000/svg\" width=\"110\" height=\"20\">\n",
    "  <linearGradient id=\"b\" x2=\"0\" y2=\"100%\">\n",
    "    <stop offset=\"0\" stop-color=\"#bbb\" stop-opacity=\".1\"/>\n",
    "    <stop offset=\"1\" stop-opacity=\".1\"/>\n",
    "  </linearGradient>\n",
    "  <mask id=\"a\">\n",
    "    <rect width=\"110\" height=\"20\" rx=\"3\" fill=\"#fff\"/>\n",
    "  </mask>\n",
    "  <g mask=\"url(#a)\">\n",
    "    <path fill=\"#555\" d=\"M0 0h63v20H0z\"/>\n",
    "    <path fill=\"#dfb317\" d=\"M63 0h47v20H63z\"/>\n",
    "    <path fill=\"url(#b)\" d=\"M0 0h110v20H0z\"/>\n",
    "  </g>\n",
    "  <g fill=\"#fff\" text-anchor=\"middle\" font-family=\"DejaVu Sans,Verdana,Geneva,sans-serif\" font-size=\"11\">\n",
    "    <text x=\"31.5\" y=\"15\" fill=\"#010101\" fill-opacity=\".3\">coverage</text>\n",
    "    <text x=\"31.5\" y=\"14\">coverage</text>\n",
    "    <text x=\"85.5\" y=\"15\" fill=\"#010101\" fill-opacity=\".3\">76.8%</text>\n",
    "    <text x=\"85.5\" y=\"14\">76.8%</text>\n",
    "  </g>\n",
    "</svg>\n",
    "```\n"
   ]
  },
  {
   "cell_type": "code",
   "execution_count": 2,
   "metadata": {
    "collapsed": true
   },
   "outputs": [],
   "source": [
    "import svgwrite\n",
    "import IPython"
   ]
  },
  {
   "cell_type": "code",
   "execution_count": 46,
   "metadata": {
    "collapsed": false
   },
   "outputs": [],
   "source": [
    "# svg badge generator\n",
    "def generate_svg():\n",
    "    svg = svgwrite.container.SVG(size=(110,20), **{\"xmlns\":\"http://www.w3.org/2000/svg\"})\n",
    "    \n",
    "    # add the linear gradient\n",
    "    linear_gradient = svgwrite.gradients.LinearGradient(end=(0, \"100%\"), **{\"id\": \"b\"})\n",
    "    linear_gradient.add_stop_color(offset=0, color=\"#bbb\", opacity=\".1\")\n",
    "    linear_gradient.add_stop_color(offset=1, opacity=\".1\")\n",
    "    svg.add(linear_gradient)\n",
    "    \n",
    "    # add the mask\n",
    "    mask = svgwrite.masking.Mask(**{\"id\":\"a\"})\n",
    "    mask_rect = svgwrite.shapes.Rect(size=(110,20), rx=3, **{\"fill\": \"#fff\"})\n",
    "    mask.add(mask_rect)\n",
    "    svg.add(mask)\n",
    "    \n",
    "    # and the group, with mask\n",
    "    group = svgwrite.container.Group(**{\"mask\": \"url(#a)\"})\n",
    "    # TODO: i have no idea where those d values come from at this time\n",
    "    group.add(svgwrite.path.Path(d=\"M0 0h63v20H0z\", **{\"fill\": \"#555\"}))\n",
    "    group.add(svgwrite.path.Path(d=\"M63 0h47v20H63z\", **{\"fill\": \"#dfb317\"}))\n",
    "    group.add(svgwrite.path.Path(d=\"M0 0h110v20H0z\", **{\"fill\": \"url(#b)\"}))\n",
    "    svg.add(group)\n",
    "    \n",
    "    # add the text group\n",
    "    tg = {\n",
    "        \"fill\": \"#fff\", \n",
    "        \"text-anchor\": \"middle\",\n",
    "        \"font-family\": \"DejaVu Sans,Verdana,Geneva,sans-serif\",\n",
    "        \"font-size\": \"11\"\n",
    "    }\n",
    "    text_group = svgwrite.container.Group(**tg)\n",
    "    text_group.add(svgwrite.text.Text(text=\"coverage\", x=[\"31.5\"], y=[\"15\"], **{\"fill\": \"#010101\", \"fill-opacity\":\".3\"}))\n",
    "    text_group.add(svgwrite.text.Text(text=\"coverage\", x=[\"31.5\"], y=[\"14\"]))\n",
    "    text_group.add(svgwrite.text.Text(text=\"76.8%\", x=[\"85.5\"], y=[\"15\"], **{\"fill\": \"#010101\", \"fill-opacity\":\".3\"}))\n",
    "    text_group.add(svgwrite.text.Text(text=\"76.8%\", x=[\"85.5\"], y=[\"14\"]))\n",
    "    svg.add(text_group)\n",
    "\n",
    "    return svg.tostring()\n",
    "    "
   ]
  },
  {
   "cell_type": "code",
   "execution_count": 49,
   "metadata": {
    "collapsed": false
   },
   "outputs": [
    {
     "name": "stdout",
     "output_type": "stream",
     "text": [
      "<svg height=\"20\" width=\"110\" xmlns=\"http://www.w3.org/2000/svg\"><defs /><linearGradient id=\"b\" x2=\"0\" y2=\"100%\"><stop offset=\"0\" stop-color=\"#bbb\" stop-opacity=\".1\" /><stop offset=\"1\" stop-opacity=\".1\" /></linearGradient><mask id=\"a\"><rect fill=\"#fff\" height=\"20\" rx=\"3\" width=\"110\" x=\"0\" y=\"0\" /></mask><g mask=\"url(#a)\"><path d=\"M0 0h63v20H0z\" fill=\"#555\" /><path d=\"M63 0h47v20H63z\" fill=\"#dfb317\" /><path d=\"M0 0h110v20H0z\" fill=\"url(#b)\" /></g><g fill=\"#fff\" font-family=\"DejaVu Sans,Verdana,Geneva,sans-serif\" font-size=\"11\" text-anchor=\"middle\"><text fill=\"#010101\" fill-opacity=\".3\" x=\"31.5\" y=\"15\">coverage</text><text x=\"31.5\" y=\"14\">coverage</text><text fill=\"#010101\" fill-opacity=\".3\" x=\"85.5\" y=\"15\">76.8%</text><text x=\"85.5\" y=\"14\">76.8%</text></g></svg>\n"
     ]
    }
   ],
   "source": [
    "svg = generate_svg()\n",
    "\n",
    "# does it match our shields.io example?\n",
    "print svg"
   ]
  },
  {
   "cell_type": "code",
   "execution_count": 48,
   "metadata": {
    "collapsed": false
   },
   "outputs": [
    {
     "data": {
      "image/svg+xml": [
       "<svg height=\"20\" width=\"110\" xmlns=\"http://www.w3.org/2000/svg\"><defs/><linearGradient id=\"b\" x2=\"0\" y2=\"100%\"><stop offset=\"0\" stop-color=\"#bbb\" stop-opacity=\".1\"/><stop offset=\"1\" stop-opacity=\".1\"/></linearGradient><mask id=\"a\"><rect fill=\"#fff\" height=\"20\" rx=\"3\" width=\"110\" x=\"0\" y=\"0\"/></mask><g mask=\"url(#a)\"><path d=\"M0 0h63v20H0z\" fill=\"#555\"/><path d=\"M63 0h47v20H63z\" fill=\"#dfb317\"/><path d=\"M0 0h110v20H0z\" fill=\"url(#b)\"/></g><g fill=\"#fff\" font-family=\"DejaVu Sans,Verdana,Geneva,sans-serif\" font-size=\"11\" text-anchor=\"middle\"><text fill=\"#010101\" fill-opacity=\".3\" x=\"31.5\" y=\"15\">coverage</text><text x=\"31.5\" y=\"14\">coverage</text><text fill=\"#010101\" fill-opacity=\".3\" x=\"85.5\" y=\"15\">76.8%</text><text x=\"85.5\" y=\"14\">76.8%</text></g></svg>"
      ],
      "text/plain": [
       "<IPython.core.display.SVG object>"
      ]
     },
     "execution_count": 48,
     "metadata": {},
     "output_type": "execute_result"
    }
   ],
   "source": [
    "IPython.display.SVG(data=svg)"
   ]
  },
  {
   "cell_type": "code",
   "execution_count": 50,
   "metadata": {
    "collapsed": false
   },
   "outputs": [
    {
     "data": {
      "image/svg+xml": [
       "<svg height=\"20\" width=\"110\" xmlns=\"http://www.w3.org/2000/svg\"><linearGradient id=\"b\" x2=\"0\" y2=\"100%\"><stop offset=\"0\" stop-color=\"#bbb\" stop-opacity=\".1\"/><stop offset=\"1\" stop-opacity=\".1\"/></linearGradient><mask id=\"a\"><rect fill=\"#fff\" height=\"20\" rx=\"3\" width=\"110\"/></mask><g mask=\"url(#a)\"><path d=\"M0 0h63v20H0z\" fill=\"#555\"/><path d=\"M63 0h47v20H63z\" fill=\"#dfb317\"/><path d=\"M0 0h110v20H0z\" fill=\"url(#b)\"/></g><g fill=\"#fff\" font-family=\"DejaVu Sans,Verdana,Geneva,sans-serif\" font-size=\"11\" text-anchor=\"middle\"><text fill=\"#010101\" fill-opacity=\".3\" x=\"31.5\" y=\"15\">coverage</text><text x=\"31.5\" y=\"14\">coverage</text><text fill=\"#010101\" fill-opacity=\".3\" x=\"85.5\" y=\"15\">76.8%</text><text x=\"85.5\" y=\"14\">76.8%</text></g></svg>"
      ],
      "text/plain": [
       "<IPython.core.display.SVG object>"
      ]
     },
     "execution_count": 50,
     "metadata": {},
     "output_type": "execute_result"
    }
   ],
   "source": [
    "IPython.display.SVG(url=\"https://rawgit.com/badges/shields/master/coverage.svg\")"
   ]
  },
  {
   "cell_type": "markdown",
   "metadata": {},
   "source": [
    "yes. yes, it does. \n",
    "\n",
    "the image matches, there's a bit of svgwrite default cruft in the svg (empty defs element). but that is nothing to worry about today.\n",
    "\n",
    "let's start building out the dynamic generator.\n",
    "\n",
    "we need:\n",
    "\n",
    "1. classes of badge (type of people, type of funding)\n",
    "2. colors for each type\n",
    "3. text for each badge option"
   ]
  },
  {
   "cell_type": "code",
   "execution_count": 82,
   "metadata": {
    "collapsed": true
   },
   "outputs": [],
   "source": [
    "# dict of types\n",
    "'''\n",
    "Funded, FUNding Friday, Testbed\n",
    "Member, Collaborator\n",
    "'''\n",
    "_badge_types = {\n",
    "    \"funded\": {\"color\": \"#A1D3E4\", \"title\": \"Funded\"},\n",
    "    \"funding friday\": {\"color\": \"#A1D3E4\", \"title\": \"FUNding Friday\"},\n",
    "    \"testbed\": {\"color\": \"#A1D3E4\", \"title\": \"Testbed\"},\n",
    "    \"member\": {\"color\": \"#388477\", \"title\": \"Member\"},\n",
    "    \"collaborator\": {\"color\": \"#388477\", \"title\": \"Collaborator\"}\n",
    "}\n",
    "\n",
    "_esip = \"#3FA1B9\"\n",
    "\n",
    "_pad = 8\n",
    "_sep = 4\n",
    "_height = 20\n",
    "\n",
    "def text_width(text):\n",
    "    return 7 * len(text)\n",
    "\n",
    "def calculate_widths(text):\n",
    "    right_width = _sep + text_width(text) + _pad\n",
    "    left_width = _pad + text_width('ESIP') + _sep\n",
    "    return left_width, right_width, left_width + right_width\n",
    "           \n",
    "    \n",
    "def generate_text(text, x, y):\n",
    "    # return the two text svg elements, text and shadow\n",
    "    # x and y as strings\n",
    "    yield svgwrite.text.Text(text=text, x=[str(x)], y=[str(y)], **{\"fill\": \"#010101\", \"fill-opacity\":\".3\"})\n",
    "    yield svgwrite.text.Text(text=text, x=[str(x)], y=[str(y-1)])\n",
    "    \n",
    "def generate_badge(badge_type):\n",
    "    badge_type = _badge_types.get(badge_type.lower())\n",
    "    badge_color = badge_type.get('color')\n",
    "    badge_name = badge_type.get('title')\n",
    "    lw, rw, tw = calculate_widths(badge_name)\n",
    "    \n",
    "    # build the svg\n",
    "    svg = svgwrite.container.SVG(size=(tw, 20), **{\"xmlns\":\"http://www.w3.org/2000/svg\"})\n",
    "    \n",
    "    # add the linear gradient\n",
    "    linear_gradient = svgwrite.gradients.LinearGradient(end=(0, \"100%\"), **{\"id\": \"b\"})\n",
    "    linear_gradient.add_stop_color(offset=0, color=\"#bbb\", opacity=\".1\")\n",
    "    linear_gradient.add_stop_color(offset=1, opacity=\".1\")\n",
    "    svg.add(linear_gradient)\n",
    "    \n",
    "    # add the mask\n",
    "    mask = svgwrite.masking.Mask(**{\"id\":\"a\"})\n",
    "    mask_rect = svgwrite.shapes.Rect(size=(tw,20), rx=3, **{\"fill\": \"#fff\"})\n",
    "    mask.add(mask_rect)\n",
    "    svg.add(mask)\n",
    "    \n",
    "    # and the group, with mask\n",
    "    group = svgwrite.container.Group(**{\"mask\": \"url(#a)\"})\n",
    "    group.add(svgwrite.shapes.Rect(size=(lw, _height), **{\"fill\": _esip}))\n",
    "    group.add(svgwrite.shapes.Rect(size=(rw, _height), insert=(lw, 0), **{\"fill\": badge_color}))\n",
    "    group.add(svgwrite.shapes.Rect(size=(tw, _height), **{\"fill\": \"url(#b)\"}))\n",
    "    svg.add(group)\n",
    "    \n",
    "    # add the text group\n",
    "    tg = {\n",
    "        \"fill\": \"#fff\", \n",
    "        \"text-anchor\": \"middle\",\n",
    "        \"font-family\": \"DejaVu Sans,Verdana,Geneva,sans-serif\",\n",
    "        \"font-size\": \"11\"\n",
    "    }\n",
    "    text_group = svgwrite.container.Group(**tg)\n",
    "    for t in generate_text('ESIP', (lw/2) + 1, 15):\n",
    "        text_group.add(t)\n",
    "    for t in generate_text(badge_name, lw + ((rw/2) - 1), 15):\n",
    "        text_group.add(t)\n",
    "    svg.add(text_group)\n",
    "    \n",
    "    return svg.tostring()"
   ]
  },
  {
   "cell_type": "code",
   "execution_count": 83,
   "metadata": {
    "collapsed": false
   },
   "outputs": [
    {
     "name": "stdout",
     "output_type": "stream",
     "text": [
      "<svg height=\"20\" width=\"94\" xmlns=\"http://www.w3.org/2000/svg\"><defs /><linearGradient id=\"b\" x2=\"0\" y2=\"100%\"><stop offset=\"0\" stop-color=\"#bbb\" stop-opacity=\".1\" /><stop offset=\"1\" stop-opacity=\".1\" /></linearGradient><mask id=\"a\"><rect fill=\"#fff\" height=\"20\" rx=\"3\" width=\"94\" x=\"0\" y=\"0\" /></mask><g mask=\"url(#a)\"><rect fill=\"#3FA1B9\" height=\"20\" width=\"40\" x=\"0\" y=\"0\" /><rect fill=\"#A1D3E4\" height=\"20\" width=\"54\" x=\"40\" y=\"0\" /><rect fill=\"url(#b)\" height=\"20\" width=\"94\" x=\"0\" y=\"0\" /></g><g fill=\"#fff\" font-family=\"DejaVu Sans,Verdana,Geneva,sans-serif\" font-size=\"11\" text-anchor=\"middle\"><text fill=\"#010101\" fill-opacity=\".3\" x=\"21\" y=\"15\">ESIP</text><text x=\"21\" y=\"14\">ESIP</text><text fill=\"#010101\" fill-opacity=\".3\" x=\"66\" y=\"15\">Funded</text><text x=\"66\" y=\"14\">Funded</text></g></svg>\n",
      "\n",
      "\n"
     ]
    },
    {
     "data": {
      "image/svg+xml": [
       "<svg height=\"20\" width=\"94\" xmlns=\"http://www.w3.org/2000/svg\"><defs/><linearGradient id=\"b\" x2=\"0\" y2=\"100%\"><stop offset=\"0\" stop-color=\"#bbb\" stop-opacity=\".1\"/><stop offset=\"1\" stop-opacity=\".1\"/></linearGradient><mask id=\"a\"><rect fill=\"#fff\" height=\"20\" rx=\"3\" width=\"94\" x=\"0\" y=\"0\"/></mask><g mask=\"url(#a)\"><rect fill=\"#3FA1B9\" height=\"20\" width=\"40\" x=\"0\" y=\"0\"/><rect fill=\"#A1D3E4\" height=\"20\" width=\"54\" x=\"40\" y=\"0\"/><rect fill=\"url(#b)\" height=\"20\" width=\"94\" x=\"0\" y=\"0\"/></g><g fill=\"#fff\" font-family=\"DejaVu Sans,Verdana,Geneva,sans-serif\" font-size=\"11\" text-anchor=\"middle\"><text fill=\"#010101\" fill-opacity=\".3\" x=\"21\" y=\"15\">ESIP</text><text x=\"21\" y=\"14\">ESIP</text><text fill=\"#010101\" fill-opacity=\".3\" x=\"66\" y=\"15\">Funded</text><text x=\"66\" y=\"14\">Funded</text></g></svg>"
      ],
      "text/plain": [
       "<IPython.core.display.SVG object>"
      ]
     },
     "execution_count": 83,
     "metadata": {},
     "output_type": "execute_result"
    }
   ],
   "source": [
    "funded = generate_badge('funded')\n",
    "print funded\n",
    "print\n",
    "print\n",
    "\n",
    "IPython.display.SVG(data=funded)"
   ]
  },
  {
   "cell_type": "code",
   "execution_count": 86,
   "metadata": {
    "collapsed": false
   },
   "outputs": [
    {
     "data": {
      "image/svg+xml": [
       "<svg height=\"20\" width=\"150\" xmlns=\"http://www.w3.org/2000/svg\"><defs/><linearGradient id=\"b\" x2=\"0\" y2=\"100%\"><stop offset=\"0\" stop-color=\"#bbb\" stop-opacity=\".1\"/><stop offset=\"1\" stop-opacity=\".1\"/></linearGradient><mask id=\"a\"><rect fill=\"#fff\" height=\"20\" rx=\"3\" width=\"150\" x=\"0\" y=\"0\"/></mask><g mask=\"url(#a)\"><rect fill=\"#3FA1B9\" height=\"20\" width=\"40\" x=\"0\" y=\"0\"/><rect fill=\"#A1D3E4\" height=\"20\" width=\"110\" x=\"40\" y=\"0\"/><rect fill=\"url(#b)\" height=\"20\" width=\"150\" x=\"0\" y=\"0\"/></g><g fill=\"#fff\" font-family=\"DejaVu Sans,Verdana,Geneva,sans-serif\" font-size=\"11\" text-anchor=\"middle\"><text fill=\"#010101\" fill-opacity=\".3\" x=\"21\" y=\"15\">ESIP</text><text x=\"21\" y=\"14\">ESIP</text><text fill=\"#010101\" fill-opacity=\".3\" x=\"94\" y=\"15\">FUNding Friday</text><text x=\"94\" y=\"14\">FUNding Friday</text></g></svg>"
      ],
      "text/plain": [
       "<IPython.core.display.SVG object>"
      ]
     },
     "execution_count": 86,
     "metadata": {},
     "output_type": "execute_result"
    }
   ],
   "source": [
    "friday = generate_badge('funding friday')\n",
    "\n",
    "IPython.display.SVG(data=friday)"
   ]
  },
  {
   "cell_type": "code",
   "execution_count": 87,
   "metadata": {
    "collapsed": false
   },
   "outputs": [
    {
     "data": {
      "image/svg+xml": [
       "<svg height=\"20\" width=\"136\" xmlns=\"http://www.w3.org/2000/svg\"><defs/><linearGradient id=\"b\" x2=\"0\" y2=\"100%\"><stop offset=\"0\" stop-color=\"#bbb\" stop-opacity=\".1\"/><stop offset=\"1\" stop-opacity=\".1\"/></linearGradient><mask id=\"a\"><rect fill=\"#fff\" height=\"20\" rx=\"3\" width=\"136\" x=\"0\" y=\"0\"/></mask><g mask=\"url(#a)\"><rect fill=\"#3FA1B9\" height=\"20\" width=\"40\" x=\"0\" y=\"0\"/><rect fill=\"#388477\" height=\"20\" width=\"96\" x=\"40\" y=\"0\"/><rect fill=\"url(#b)\" height=\"20\" width=\"136\" x=\"0\" y=\"0\"/></g><g fill=\"#fff\" font-family=\"DejaVu Sans,Verdana,Geneva,sans-serif\" font-size=\"11\" text-anchor=\"middle\"><text fill=\"#010101\" fill-opacity=\".3\" x=\"21\" y=\"15\">ESIP</text><text x=\"21\" y=\"14\">ESIP</text><text fill=\"#010101\" fill-opacity=\".3\" x=\"87\" y=\"15\">Collaborator</text><text x=\"87\" y=\"14\">Collaborator</text></g></svg>"
      ],
      "text/plain": [
       "<IPython.core.display.SVG object>"
      ]
     },
     "execution_count": 87,
     "metadata": {},
     "output_type": "execute_result"
    }
   ],
   "source": [
    "collab = generate_badge('collaborator')\n",
    "\n",
    "IPython.display.SVG(data=collab)"
   ]
  },
  {
   "cell_type": "code",
   "execution_count": null,
   "metadata": {
    "collapsed": true
   },
   "outputs": [],
   "source": []
  },
  {
   "cell_type": "code",
   "execution_count": null,
   "metadata": {
    "collapsed": true
   },
   "outputs": [],
   "source": []
  },
  {
   "cell_type": "code",
   "execution_count": null,
   "metadata": {
    "collapsed": true
   },
   "outputs": [],
   "source": [
    "# dicking around with the href\n",
    "\n",
    "\n",
    "\n",
    "s = '''<svg height=\"20\" width=\"94\" xmlns=\"http://www.w3.org/2000/svg\" xmlns:xlink=\"http://www.w3.org/1999/xlink\">\n",
    "<linearGradient id=\"b\" x2=\"0\" y2=\"100%\">\n",
    "<stop offset=\"0\" stop-color=\"#bbb\" stop-opacity=\".1\" />\n",
    "<stop offset=\"1\" stop-opacity=\".1\" />\n",
    "</linearGradient>\n",
    "<mask id=\"a\">\n",
    "<rect fill=\"#fff\" height=\"20\" rx=\"3\" width=\"94\" x=\"0\" y=\"0\" />\n",
    "</mask>\n",
    "<g mask=\"url(#a)\">\n",
    "<rect fill=\"#3FA1B9\" height=\"20\" width=\"40\" x=\"0\" y=\"0\" />\n",
    "<rect fill=\"#A1D3E4\" height=\"20\" width=\"54\" x=\"40\" y=\"0\" />\n",
    "<rect fill=\"url(#b)\" height=\"20\" width=\"94\" x=\"0\" y=\"0\" />\n",
    "</g>\n",
    "<g fill=\"#fff\" font-family=\"DejaVu Sans,Verdana,Geneva,sans-serif\" font-size=\"11\" text-anchor=\"middle\">\n",
    "<a target=\"_blank\" xlink:href=\"http://www.esipfed.org\"><text fill=\"#010101\" fill-opacity=\".3\" x=\"21\" y=\"15\">ESIP</text></a>\n",
    "<text x=\"21\" y=\"14\">ESIP</text>\n",
    "<text fill=\"#010101\" fill-opacity=\".3\" x=\"66\" y=\"15\">Funded</text>\n",
    "<text x=\"66\" y=\"14\">Funded</text>\n",
    "</g>\n",
    "</svg>'''\n",
    "\n",
    "\n",
    "IPython.display.SVG(data=s)"
   ]
  }
 ],
 "metadata": {
  "kernelspec": {
   "display_name": "Python 2",
   "language": "python",
   "name": "python2"
  },
  "language_info": {
   "codemirror_mode": {
    "name": "ipython",
    "version": 2
   },
   "file_extension": ".py",
   "mimetype": "text/x-python",
   "name": "python",
   "nbconvert_exporter": "python",
   "pygments_lexer": "ipython2",
   "version": "2.7.10"
  }
 },
 "nbformat": 4,
 "nbformat_minor": 0
}
