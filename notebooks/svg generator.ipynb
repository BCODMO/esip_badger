{
 "cells": [
  {
   "cell_type": "markdown",
   "metadata": {},
   "source": [
    "badge tests - porting the shields javascript svg generator to python\n",
    "\n",
    "the generated shields svg for a badge:\n",
    "\n",
    "```\n",
    "<svg xmlns=\"http://www.w3.org/2000/svg\" width=\"110\" height=\"20\"><linearGradient id=\"b\" x2=\"0\" y2=\"100%\"><stop offset=\"0\" stop-color=\"#bbb\" stop-opacity=\".1\"/><stop offset=\"1\" stop-opacity=\".1\"/></linearGradient><mask id=\"a\"><rect width=\"110\" height=\"20\" rx=\"3\" fill=\"#fff\"/></mask><g mask=\"url(#a)\"><path fill=\"#555\" d=\"M0 0h63v20H0z\"/><path fill=\"#dfb317\" d=\"M63 0h47v20H63z\"/><path fill=\"url(#b)\" d=\"M0 0h110v20H0z\"/></g><g fill=\"#fff\" text-anchor=\"middle\" font-family=\"DejaVu Sans,Verdana,Geneva,sans-serif\" font-size=\"11\"><text x=\"31.5\" y=\"15\" fill=\"#010101\" fill-opacity=\".3\">coverage</text><text x=\"31.5\" y=\"14\">coverage</text><text x=\"85.5\" y=\"15\" fill=\"#010101\" fill-opacity=\".3\">76.8%</text><text x=\"85.5\" y=\"14\">76.8%</text></g></svg>\n",
    "```\n"
   ]
  },
  {
   "cell_type": "code",
   "execution_count": 7,
   "metadata": {
    "collapsed": true
   },
   "outputs": [],
   "source": [
    "import svgwrite"
   ]
  },
  {
   "cell_type": "code",
   "execution_count": 8,
   "metadata": {
    "collapsed": true
   },
   "outputs": [],
   "source": [
    "# svg badge generator\n",
    "def generate_svg():\n",
    "    svg = svgwrite.container.SVG()\n",
    "    \n",
    "    return svg\n",
    "    "
   ]
  },
  {
   "cell_type": "code",
   "execution_count": 9,
   "metadata": {
    "collapsed": false
   },
   "outputs": [
    {
     "data": {
      "text/plain": [
       "<svgwrite.container.SVG at 0x104a14f50>"
      ]
     },
     "execution_count": 9,
     "metadata": {},
     "output_type": "execute_result"
    }
   ],
   "source": [
    "generate_svg()"
   ]
  },
  {
   "cell_type": "code",
   "execution_count": null,
   "metadata": {
    "collapsed": true
   },
   "outputs": [],
   "source": []
  }
 ],
 "metadata": {
  "kernelspec": {
   "display_name": "Python 2",
   "language": "python",
   "name": "python2"
  },
  "language_info": {
   "codemirror_mode": {
    "name": "ipython",
    "version": 2
   },
   "file_extension": ".py",
   "mimetype": "text/x-python",
   "name": "python",
   "nbconvert_exporter": "python",
   "pygments_lexer": "ipython2",
   "version": "2.7.10"
  }
 },
 "nbformat": 4,
 "nbformat_minor": 0
}
