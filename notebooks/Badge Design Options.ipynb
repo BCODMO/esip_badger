{
 "cells": [
  {
   "cell_type": "markdown",
   "metadata": {},
   "source": [
    "##Badging Design Doc"
   ]
  },
  {
   "cell_type": "code",
   "execution_count": 1,
   "metadata": {
    "collapsed": true
   },
   "outputs": [],
   "source": [
    "import svgwrite\n",
    "import IPython"
   ]
  },
  {
   "cell_type": "markdown",
   "metadata": {},
   "source": [
    "####Code"
   ]
  },
  {
   "cell_type": "code",
   "execution_count": 21,
   "metadata": {
    "collapsed": true
   },
   "outputs": [],
   "source": [
    "class Badge():\n",
    "    '''\n",
    "    generate a badge for some text pair\n",
    "\n",
    "    text object (one for left, one for right) is defined by\n",
    "    a string (for display), a background color, a text color,\n",
    "    and a link.\n",
    "\n",
    "    ex:\n",
    "        {\n",
    "            \"text\": \"github\",\n",
    "            \"background\": \"#eee\",\n",
    "            \"href\": \"http://www.github.com\"\n",
    "        }\n",
    "    '''\n",
    "    _pad = 8\n",
    "    _sep = 4\n",
    "    _height = 20\n",
    "\n",
    "    def __init__(self, left, right):\n",
    "        self.left = left\n",
    "        self.right = right\n",
    "\n",
    "    def _text_width(self, text):\n",
    "        return 7 * len(text)\n",
    "\n",
    "    def _calculate_widths(self):\n",
    "        right_width = self._sep + self._text_width(self.right.get(\"text\")) + self._pad\n",
    "        left_width = self._pad + self._text_width(self.left.get(\"text\")) + self._sep\n",
    "        return left_width, right_width, left_width + right_width\n",
    "\n",
    "    def _generate_text(self, text, x, y, href='', fill=''):\n",
    "        # return the two text svg elements, text and shadow\n",
    "        # x and y as strings\n",
    "        \n",
    "        # TODO: sort out which of these should have the href (and is it the mask\n",
    "        # that's the issue?)\n",
    "        svg_text =  svgwrite.text.Text(\n",
    "            text=text,\n",
    "            x=[str(x)],\n",
    "            y=[str(y)],\n",
    "            **{\"fill\": \"#010101\", \"fill-opacity\": \".3\"}\n",
    "        )\n",
    "        if href:\n",
    "            svg_text.add(svgwrite.container.Hyperlink(href=href, target='_blank'))\n",
    "\n",
    "        yield svg_text\n",
    "        \n",
    "        extras = {\"fill\": fill} if fill else {}\n",
    "        yield svgwrite.text.Text(text=text, x=[str(x)], y=[str(y - 1)], **extras)\n",
    "\n",
    "    def generate_badge(self):\n",
    "        lw, rw, tw = self._calculate_widths()\n",
    "\n",
    "        # build the svg\n",
    "        svg = svgwrite.container.SVG(\n",
    "            size=(tw, 20),\n",
    "            **{\"xmlns\": \"http://www.w3.org/2000/svg\", \"xmlns:xlink\": \"http://www.w3.org/1999/xlink\"}\n",
    "        )\n",
    "\n",
    "        # add the linear gradient\n",
    "        linear_gradient = svgwrite.gradients.LinearGradient(\n",
    "            end=(0, \"100%\"), **{\"id\": \"b\"}\n",
    "        )\n",
    "        linear_gradient.add_stop_color(offset=0, color=\"#bbb\", opacity=\".1\")\n",
    "        linear_gradient.add_stop_color(offset=1, opacity=\".1\")\n",
    "        svg.add(linear_gradient)\n",
    "\n",
    "        # add the mask\n",
    "        mask = svgwrite.masking.Mask(**{\"id\": \"a\"})\n",
    "        mask_rect = svgwrite.shapes.Rect(size=(tw, 20), rx=3, **{\"fill\": \"#fff\"})\n",
    "        mask.add(mask_rect)\n",
    "        svg.add(mask)\n",
    "\n",
    "        # and the group, with mask\n",
    "        group = svgwrite.container.Group(**{\"mask\": \"url(#a)\"})\n",
    "        group.add(svgwrite.shapes.Rect(size=(lw, self._height), **{\"fill\": self.left.get('background')}))\n",
    "        group.add(svgwrite.shapes.Rect(\n",
    "            size=(rw, self._height),\n",
    "            insert=(lw, 0),\n",
    "            **{\"fill\": self.right.get('background')})\n",
    "        )\n",
    "        group.add(svgwrite.shapes.Rect(size=(tw, self._height), **{\"fill\": \"url(#b)\"}))\n",
    "        svg.add(group)\n",
    "\n",
    "        # add the text group\n",
    "        tg = {\n",
    "            \"fill\": \"#fff\",\n",
    "            \"text-anchor\": \"middle\",\n",
    "            \"font-family\": \"DejaVu Sans,Verdana,Geneva,sans-serif\",\n",
    "            \"font-size\": \"11\"\n",
    "        }\n",
    "        text_group = svgwrite.container.Group(**tg)\n",
    "        for t in self._generate_text(self.left.get('text'), (lw / 2) + 1, 15, href=self.left.get('href', '')):\n",
    "            text_group.add(t)\n",
    "        for t in self._generate_text(self.right.get('text'), lw + ((rw / 2) - 1), 15):\n",
    "            text_group.add(t)\n",
    "        svg.add(text_group)\n",
    "\n",
    "        return svg.tostring()"
   ]
  },
  {
   "cell_type": "markdown",
   "metadata": {},
   "source": [
    "### The Design Options"
   ]
  },
  {
   "cell_type": "code",
   "execution_count": 12,
   "metadata": {
    "collapsed": true
   },
   "outputs": [],
   "source": [
    "# the left side, always esip\n",
    "_left = {\n",
    "    \"text\": \"ESIP\",\n",
    "    \"background\": \"#3FA1B9\",\n",
    "    \"href\": \"http://www.esipfed.org\"\n",
    "}"
   ]
  },
  {
   "cell_type": "code",
   "execution_count": 13,
   "metadata": {
    "collapsed": true
   },
   "outputs": [],
   "source": [
    "# the right side options\n",
    "funded = {\n",
    "    \"text\": \"Funded\",\n",
    "    \"background\": \"#A1D3E4\"\n",
    "}"
   ]
  },
  {
   "cell_type": "code",
   "execution_count": 22,
   "metadata": {
    "collapsed": false
   },
   "outputs": [
    {
     "data": {
      "image/svg+xml": [
       "<svg height=\"20\" width=\"94\" xmlns=\"http://www.w3.org/2000/svg\" xmlns:xlink=\"http://www.w3.org/1999/xlink\"><defs/><linearGradient id=\"b\" x2=\"0\" y2=\"100%\"><stop offset=\"0\" stop-color=\"#bbb\" stop-opacity=\".1\"/><stop offset=\"1\" stop-opacity=\".1\"/></linearGradient><mask id=\"a\"><rect fill=\"#fff\" height=\"20\" rx=\"3\" width=\"94\" x=\"0\" y=\"0\"/></mask><g mask=\"url(#a)\"><rect fill=\"#3FA1B9\" height=\"20\" width=\"40\" x=\"0\" y=\"0\"/><rect fill=\"#A1D3E4\" height=\"20\" width=\"54\" x=\"40\" y=\"0\"/><rect fill=\"url(#b)\" height=\"20\" width=\"94\" x=\"0\" y=\"0\"/></g><g fill=\"#fff\" font-family=\"DejaVu Sans,Verdana,Geneva,sans-serif\" font-size=\"11\" text-anchor=\"middle\"><text fill=\"#010101\" fill-opacity=\".3\" x=\"21\" y=\"15\">ESIP<a target=\"_blank\" xlink:href=\"http://www.esipfed.org\"/></text><text x=\"21\" y=\"14\">ESIP</text><text fill=\"#010101\" fill-opacity=\".3\" x=\"66\" y=\"15\">Funded</text><text x=\"66\" y=\"14\">Funded</text></g></svg>"
      ],
      "text/plain": [
       "<IPython.core.display.SVG object>"
      ]
     },
     "execution_count": 22,
     "metadata": {},
     "output_type": "execute_result"
    }
   ],
   "source": [
    "badger = Badge(_left, funded)\n",
    "svg = badger.generate_badge()\n",
    "\n",
    "IPython.display.SVG(data=svg)"
   ]
  },
  {
   "cell_type": "code",
   "execution_count": null,
   "metadata": {
    "collapsed": true
   },
   "outputs": [],
   "source": []
  },
  {
   "cell_type": "code",
   "execution_count": null,
   "metadata": {
    "collapsed": true
   },
   "outputs": [],
   "source": []
  },
  {
   "cell_type": "code",
   "execution_count": 25,
   "metadata": {
    "collapsed": false
   },
   "outputs": [
    {
     "name": "stdout",
     "output_type": "stream",
     "text": [
      "<svg height=\"20\" width=\"94\" xmlns=\"http://www.w3.org/2000/svg\" xmlns:xlink=\"http://www.w3.org/1999/xlink\"><defs /><linearGradient id=\"b\" x2=\"0\" y2=\"100%\"><stop offset=\"0\" stop-color=\"#bbb\" stop-opacity=\".1\" /><stop offset=\"1\" stop-opacity=\".1\" /></linearGradient><mask id=\"a\"><rect fill=\"#fff\" height=\"20\" rx=\"3\" width=\"94\" x=\"0\" y=\"0\" /></mask><g mask=\"url(#a)\"><rect fill=\"#3FA1B9\" height=\"20\" width=\"40\" x=\"0\" y=\"0\" /><rect fill=\"#A1D3E4\" height=\"20\" width=\"54\" x=\"40\" y=\"0\" /><rect fill=\"url(#b)\" height=\"20\" width=\"94\" x=\"0\" y=\"0\" /></g><g fill=\"#fff\" font-family=\"DejaVu Sans,Verdana,Geneva,sans-serif\" font-size=\"11\" text-anchor=\"middle\"><text fill=\"#010101\" fill-opacity=\".3\" x=\"21\" y=\"15\">ESIP<a target=\"_blank\" xlink:href=\"http://www.esipfed.org\" /></text><text x=\"21\" y=\"14\">ESIP</text><text fill=\"#010101\" fill-opacity=\".3\" x=\"66\" y=\"15\">Funded</text><text x=\"66\" y=\"14\">Funded</text></g></svg>\n"
     ]
    }
   ],
   "source": [
    "print svg"
   ]
  },
  {
   "cell_type": "code",
   "execution_count": 30,
   "metadata": {
    "collapsed": false
   },
   "outputs": [
    {
     "data": {
      "image/svg+xml": [
       "<svg height=\"20\" width=\"94\" xmlns=\"http://www.w3.org/2000/svg\" xmlns:xlink=\"http://www.w3.org/1999/xlink\">\n",
       "<defs/>\n",
       "<linearGradient id=\"b\" x2=\"0\" y2=\"100%\">\n",
       "<stop offset=\"0\" stop-color=\"#bbb\" stop-opacity=\".1\"/>\n",
       "<stop offset=\"1\" stop-opacity=\".1\"/>\n",
       "</linearGradient>\n",
       "<mask id=\"a\">\n",
       "<rect fill=\"#fff\" height=\"20\" rx=\"3\" width=\"94\" x=\"0\" y=\"0\"/>\n",
       "</mask>\n",
       "<g mask=\"url(#a)\">\n",
       "<rect fill=\"#3FA1B9\" height=\"20\" width=\"40\" x=\"0\" y=\"0\"/>\n",
       "<rect fill=\"#A1D3E4\" height=\"20\" width=\"54\" x=\"40\" y=\"0\"/>\n",
       "<rect fill=\"url(#b)\" height=\"20\" width=\"94\" x=\"0\" y=\"0\"/>\n",
       "</g>\n",
       "<g fill=\"#fff\" font-family=\"DejaVu Sans,Verdana,Geneva,sans-serif\" font-size=\"11\" text-anchor=\"middle\">\n",
       "<text fill=\"#010101\" fill-opacity=\".3\" x=\"21\" y=\"15\">ESIP</text>\n",
       "<text fill=\"#aaa\" x=\"21\" y=\"14\">ESIP</text>\n",
       "<text fill=\"#010101\" fill-opacity=\".3\" x=\"66\" y=\"15\">Funded</text>\n",
       "<text x=\"66\" y=\"14\">Funded</text>\n",
       "</g>\n",
       "</svg>"
      ],
      "text/plain": [
       "<IPython.core.display.SVG object>"
      ]
     },
     "execution_count": 30,
     "metadata": {},
     "output_type": "execute_result"
    }
   ],
   "source": [
    "svg = \"\"\"<svg height=\"20\" width=\"94\" xmlns=\"http://www.w3.org/2000/svg\" xmlns:xlink=\"http://www.w3.org/1999/xlink\">\n",
    "<defs />\n",
    "<linearGradient id=\"b\" x2=\"0\" y2=\"100%\">\n",
    "<stop offset=\"0\" stop-color=\"#bbb\" stop-opacity=\".1\" />\n",
    "<stop offset=\"1\" stop-opacity=\".1\" />\n",
    "</linearGradient>\n",
    "<mask id=\"a\">\n",
    "<rect fill=\"#fff\" height=\"20\" rx=\"3\" width=\"94\" x=\"0\" y=\"0\" />\n",
    "</mask>\n",
    "<g mask=\"url(#a)\">\n",
    "<rect fill=\"#3FA1B9\" height=\"20\" width=\"40\" x=\"0\" y=\"0\" />\n",
    "<rect fill=\"#A1D3E4\" height=\"20\" width=\"54\" x=\"40\" y=\"0\" />\n",
    "<rect fill=\"url(#b)\" height=\"20\" width=\"94\" x=\"0\" y=\"0\" />\n",
    "</g>\n",
    "<g fill=\"#fff\" font-family=\"DejaVu Sans,Verdana,Geneva,sans-serif\" font-size=\"11\" text-anchor=\"middle\">\n",
    "<text fill=\"#010101\" fill-opacity=\".3\" x=\"21\" y=\"15\">ESIP</text>\n",
    "<text fill=\"#aaa\" x=\"21\" y=\"14\">ESIP</text>\n",
    "<text fill=\"#010101\" fill-opacity=\".3\" x=\"66\" y=\"15\">Funded</text>\n",
    "<text x=\"66\" y=\"14\">Funded</text>\n",
    "</g>\n",
    "</svg>\n",
    "\"\"\"\n",
    "\n",
    "IPython.display.SVG(data=svg)"
   ]
  },
  {
   "cell_type": "code",
   "execution_count": null,
   "metadata": {
    "collapsed": true
   },
   "outputs": [],
   "source": []
  }
 ],
 "metadata": {
  "kernelspec": {
   "display_name": "Python 2",
   "language": "python",
   "name": "python2"
  },
  "language_info": {
   "codemirror_mode": {
    "name": "ipython",
    "version": 2
   },
   "file_extension": ".py",
   "mimetype": "text/x-python",
   "name": "python",
   "nbconvert_exporter": "python",
   "pygments_lexer": "ipython2",
   "version": "2.7.10"
  }
 },
 "nbformat": 4,
 "nbformat_minor": 0
}
