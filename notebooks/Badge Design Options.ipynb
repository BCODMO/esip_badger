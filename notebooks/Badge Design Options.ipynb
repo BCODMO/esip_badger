{
 "cells": [
  {
   "cell_type": "markdown",
   "metadata": {
    "collapsed": true
   },
   "source": [
    "##ESIP Badge Design\n",
    "\n",
    "This is the initial round of possible badges for the ESIP community. The structure and styles are based on the shields.io project (public domain) and a de facto standard for Github badging. \n",
    "\n",
    "We have two collections, one for getting at ESIP funded things and one for the relationship to ESIP. For funding, the tags are Funded, FUNding Friday and Testbed. For the relationships, it's Member and Collaborator. \n",
    "\n",
    "To see the designs, please go to the Examples] section.\n",
    "\n",
    "The API is very simple. There's a single URL with the structure:\n",
    "\n",
    "> http://52.11.105.140/funded.svg?style=plastic\n",
    "\n",
    "where `funded` is one of the supported badge types and `style` is plastic, flat-round (default) or flat-square.\n",
    "\n",
    "Using it in one's documentation is as simple as adding:\n",
    "\n",
    "```\n",
    "<img src=\"http://52.11.105.140/funded.svg\">\n",
    "```\n",
    "\n",
    "to the Markdown (as an `img` element or through another available SVG rendering method).\n",
    "\n",
    "####Examples\n",
    "\n",
    "| Rounded | Plastic | Flat |\n",
    "|:--------|:--------|:-----|\n",
    "| <img style=\"float:left;\" src=\"http://52.11.105.140/funded.svg\"> | <img style=\"float:left;\" src=\"http://52.11.105.140/funded.svg?style=plastic\"> | <img style=\"float:left;\" src=\"http://52.11.105.140/funded.svg?style=flat-square\"> |\n",
    "| <img style=\"float:left;\" src=\"http://52.11.105.140/testbed.svg\"> | <img style=\"float:left;\" src=\"http://52.11.105.140/testbed.svg?style=plastic\"> | <img style=\"float:left;\" src=\"http://52.11.105.140/testbed.svg?style=flat-square\"> |\n",
    "| <img style=\"float:left;\" src=\"http://52.11.105.140/fundingfriday.svg\"> | <img style=\"float:left;\" src=\"http://52.11.105.140/fundingfriday.svg?style=plastic\"> | <img style=\"float:left;\" src=\"http://52.11.105.140/fundingfriday.svg?style=flat-square\"> |\n",
    "| <img style=\"float:left;\" src=\"http://52.11.105.140/member.svg\"> | <img style=\"float:left;\" src=\"http://52.11.105.140/member.svg?style=plastic\"> | <img style=\"float:left;\" src=\"http://52.11.105.140/member.svg?style=flat-square\"> |\n",
    "| <img style=\"float:left;\" src=\"http://52.11.105.140/collaborator.svg\"> | <img style=\"float:left;\" src=\"http://52.11.105.140/collaborator.svg?style=plastic\"> | <img style=\"float:left;\" src=\"http://52.11.105.140/collaborator.svg?style=flat-square\"> |\n",
    "\n",
    "\n",
    "####Notes\n",
    "\n",
    "It is not pixel-perfect compared to the shields.io badges (server-side python estimation without typeface info). \n",
    "\n",
    "The ESIP side does include a link. This doesn't appear in the IPy or, often, in Chrome. "
   ]
  },
  {
   "cell_type": "code",
   "execution_count": null,
   "metadata": {
    "collapsed": true
   },
   "outputs": [],
   "source": []
  }
 ],
 "metadata": {
  "kernelspec": {
   "display_name": "Python 2",
   "language": "python",
   "name": "python2"
  },
  "language_info": {
   "codemirror_mode": {
    "name": "ipython",
    "version": 2
   },
   "file_extension": ".py",
   "mimetype": "text/x-python",
   "name": "python",
   "nbconvert_exporter": "python",
   "pygments_lexer": "ipython2",
   "version": "2.7.10"
  }
 },
 "nbformat": 4,
 "nbformat_minor": 0
}
