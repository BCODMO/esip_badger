{
 "cells": [
  {
   "cell_type": "markdown",
   "metadata": {
    "collapsed": true
   },
   "source": [
    "##ESIP Badge Design\n",
    "\n",
    "This is the initial round of possible badges for the ESIP community. The structure and styles are based on the shields.io project (public domain) and a de facto standard for Github badging. \n",
    "\n",
    "We have two collections, one for getting at ESIP funded things and one for the relationship to ESIP. For funding, the tags are Funded, FUNding Friday and Testbed. For the relationships, it's Member and Collaborator. \n",
    "\n",
    "To see the designs, please go to the [Badge Examples](#examples) section.\n",
    "\n",
    "The API is very simple. There's a single URL with the structure:\n",
    "\n",
    "> http://someurl.com/funded.svg?style=plastic\n",
    "\n",
    "where `funded` is one of the supported badge types and `style` is plastic, flat-round (default) or flat-square.\n",
    "\n",
    "Using it in one's documentation is as simple as adding:\n",
    "\n",
    "```\n",
    "<img src=\"http://someurl.com/funded.svg\">\n",
    "```\n",
    "\n",
    "to the Markdown (as an `img` element or through another available SVG rendering method).\n",
    "\n",
    "####Examples\n",
    "\n",
    "| Rounded | Plastic | Flat |\n",
    "|:--------|:--------|:-----|\n",
    "| <img style=\"float:left;\" src=\"http://127.0.0.1:5000/funded.svg\"> | <img style=\"float:left;\" src=\"http://127.0.0.1:5000/funded.svg?style=plastic\"> | <img style=\"float:left;\" src=\"http://127.0.0.1:5000/funded.svg?style=flat-square\"> |\n",
    "| <img style=\"float:left;\" src=\"http://127.0.0.1:5000/testbed.svg\"> | <img style=\"float:left;\" src=\"http://127.0.0.1:5000/testbed.svg?style=plastic\"> | <img style=\"float:left;\" src=\"http://127.0.0.1:5000/testbed.svg?style=flat-square\"> |\n",
    "| <img style=\"float:left;\" src=\"http://127.0.0.1:5000/fundingfriday.svg\"> | <img style=\"float:left;\" src=\"http://127.0.0.1:5000/fundingfriday.svg?style=plastic\"> | <img style=\"float:left;\" src=\"http://127.0.0.1:5000/fundingfriday.svg?style=flat-square\"> |\n",
    "| <img style=\"float:left;\" src=\"http://127.0.0.1:5000/member.svg\"> | <img style=\"float:left;\" src=\"http://127.0.0.1:5000/member.svg?style=plastic\"> | <img style=\"float:left;\" src=\"http://127.0.0.1:5000/member.svg?style=flat-square\"> |\n",
    "| <img style=\"float:left;\" src=\"http://127.0.0.1:5000/collaborator.svg\"> | <img style=\"float:left;\" src=\"http://127.0.0.1:5000/collaborator.svg?style=plastic\"> | <img style=\"float:left;\" src=\"http://127.0.0.1:5000/collaborator.svg?style=flat-square\"> |\n"
   ]
  },
  {
   "cell_type": "markdown",
   "metadata": {
    "collapsed": true
   },
   "source": [
    "<img style=\"float:left;\" src=\"http://127.0.0.1:5000/fundingfriday.svg?style=plastic\">\n",
    "<img style=\"float:left;\" src=\"http://127.0.0.1:5000/funded.svg?style=plastic\">"
   ]
  },
  {
   "cell_type": "code",
   "execution_count": 2,
   "metadata": {
    "collapsed": false
   },
   "outputs": [
    {
     "name": "stdout",
     "output_type": "stream",
     "text": [
      "Funded 6 42\n",
      "FUNding Friday 14 98\n",
      "Testbed 7 49\n",
      "Member 6 42\n",
      "Collaborator 12 84\n"
     ]
    }
   ],
   "source": [
    "for t in ['Funded', 'FUNding Friday', 'Testbed', 'Member', 'Collaborator']:\n",
    "    print t, len(t), 7*len(t)"
   ]
  },
  {
   "cell_type": "code",
   "execution_count": 3,
   "metadata": {
    "collapsed": false
   },
   "outputs": [
    {
     "name": "stdout",
     "output_type": "stream",
     "text": [
      "\u001b[H\u001b[2J"
     ]
    }
   ],
   "source": [
    "%clear out\n"
   ]
  },
  {
   "cell_type": "code",
   "execution_count": null,
   "metadata": {
    "collapsed": true
   },
   "outputs": [],
   "source": []
  }
 ],
 "metadata": {
  "kernelspec": {
   "display_name": "Python 2",
   "language": "python",
   "name": "python2"
  },
  "language_info": {
   "codemirror_mode": {
    "name": "ipython",
    "version": 2
   },
   "file_extension": ".py",
   "mimetype": "text/x-python",
   "name": "python",
   "nbconvert_exporter": "python",
   "pygments_lexer": "ipython2",
   "version": "2.7.10"
  }
 },
 "nbformat": 4,
 "nbformat_minor": 0
}
