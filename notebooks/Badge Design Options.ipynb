{
 "cells": [
  {
   "cell_type": "markdown",
   "metadata": {},
   "source": [
    "##Badging Design Doc"
   ]
  },
  {
   "cell_type": "code",
   "execution_count": 22,
   "metadata": {
    "collapsed": true
   },
   "outputs": [],
   "source": [
    "%reload_ext autoreload\n",
    "%autoreload 2\n",
    "\n",
    "import svgwrite\n",
    "import IPython"
   ]
  },
  {
   "cell_type": "markdown",
   "metadata": {},
   "source": [
    "### Badge Code\n",
    "\n",
    "note: loading this from the app codebase"
   ]
  },
  {
   "cell_type": "code",
   "execution_count": 23,
   "metadata": {
    "collapsed": true
   },
   "outputs": [],
   "source": [
    "# %load '../lib/badge.py'\n",
    "\n",
    "import svgwrite\n",
    "\n",
    "\n",
    "class Badge():\n",
    "    '''\n",
    "    generate a badge for some text pair\n",
    "\n",
    "    text object (one for left, one for right) is defined by\n",
    "    a string (for display), a background color, a text color,\n",
    "    and a link.\n",
    "\n",
    "    ex:\n",
    "        {\n",
    "            \"text\": \"github\",\n",
    "            \"background\": \"#eee\",\n",
    "            \"href\": \"http://www.github.com\"\n",
    "        }\n",
    "\n",
    "    supports shields.io plastic, flat round and flat square styles\n",
    "    and href links for left and right.\n",
    "    '''\n",
    "\n",
    "    # default sizing\n",
    "    _pad = 8\n",
    "    _sep = 4\n",
    "    _height = 20\n",
    "\n",
    "    def __init__(self, left, right, style=\"flat\"):\n",
    "        self.left = left\n",
    "        self.right = right\n",
    "        self.style = style\n",
    "\n",
    "        if style == 'plastic':\n",
    "            self._height = 18\n",
    "\n",
    "    def _text_width(self, text):\n",
    "        return 7 * len(text)\n",
    "\n",
    "    def _calculate_widths(self):\n",
    "        right_width = self._sep + \\\n",
    "            self._text_width(self.right.get(\"text\")) + \\\n",
    "            self._pad\n",
    "        left_width = self._pad + \\\n",
    "            self._text_width(self.left.get(\"text\")) + \\\n",
    "            self._sep\n",
    "        return left_width, right_width, left_width + right_width\n",
    "\n",
    "    # svg fragments\n",
    "    def _generate_linear_gradient(self):\n",
    "        lg = svgwrite.gradients.LinearGradient(\n",
    "            end=(0, \"100%\"),\n",
    "            **{\"id\": \"b\"}\n",
    "        )\n",
    "        if self.style == 'flat round':\n",
    "            lg.add_stop_color(offset=0, color=\"#bbb\", opacity=\".1\")\n",
    "            lg.add_stop_color(offset=1, opacity=\".1\")\n",
    "        elif self.style == 'plastic':\n",
    "            lg.add_stop_color(offset=0, color=\"#fff\", opacity=\".7\")\n",
    "            lg.add_stop_color(offset=0.1, color=\"#aaa\", opacity=\".1\")\n",
    "            lg.add_stop_color(offset=0.9, opacity=\".3\")\n",
    "            lg.add_stop_color(offset=1, opacity=\".5\")\n",
    "        return lg\n",
    "\n",
    "    def _generate_mask(self, tw):\n",
    "        mask = svgwrite.masking.Mask(**{\"id\": \"a\"})\n",
    "        mask_rect = svgwrite.shapes.Rect(\n",
    "            size=(tw, self._height),\n",
    "            rx=4 if self.style == 'plastic' else 3,\n",
    "            **{\"fill\": \"#fff\"}\n",
    "        )\n",
    "        mask.add(mask_rect)\n",
    "        return mask\n",
    "\n",
    "    def _generate_background(self, lw, rw, tw):\n",
    "        if self.style == 'flat square':\n",
    "            group = svgwrite.container.Group(\n",
    "                **{\"shape-rendering\": \"crispEdges\"})\n",
    "            group.add(svgwrite.shapes.Rect(\n",
    "                size=(lw, self._height),\n",
    "                **{\"fill\": self.left.get('background')})\n",
    "            )\n",
    "            group.add(svgwrite.shapes.Rect(\n",
    "                size=(rw, self._height),\n",
    "                insert=(lw, 0),\n",
    "                **{\"fill\": self.right.get('background')})\n",
    "            )\n",
    "            return group\n",
    "\n",
    "        # and the other two\n",
    "        group = svgwrite.container.Group(**{\"mask\": \"url(#a)\"})\n",
    "        group.add(svgwrite.shapes.Rect(\n",
    "            size=(lw, self._height),\n",
    "            **{\"fill\": self.left.get('background')})\n",
    "        )\n",
    "        group.add(svgwrite.shapes.Rect(\n",
    "            size=(rw, self._height),\n",
    "            insert=(lw, 0),\n",
    "            **{\"fill\": self.right.get('background')})\n",
    "        )\n",
    "        group.add(\n",
    "            svgwrite.shapes.Rect(\n",
    "                size=(tw, self._height),\n",
    "                **{\"fill\": \"url(#b)\"}\n",
    "            )\n",
    "        )\n",
    "        return group\n",
    "\n",
    "    def _generate_text_group(self, lw, rw):\n",
    "        '''\n",
    "        NOTE: the y values are taken from the shields.io templates\n",
    "        '''\n",
    "        tg = {\n",
    "            \"fill\": \"#fff\",\n",
    "            \"text-anchor\": \"middle\",\n",
    "            \"font-family\": \"DejaVu Sans,Verdana,Geneva,sans-serif\",\n",
    "            \"font-size\": \"11\"\n",
    "        }\n",
    "        group = svgwrite.container.Group(**tg)\n",
    "\n",
    "        if self.style == 'flat square':\n",
    "            group.add(svgwrite.text.Text(\n",
    "                text=self.left.get('text'),\n",
    "                x=[str((lw / 2) + 1)],\n",
    "                y=['14']\n",
    "            ))\n",
    "            group.add(svgwrite.text.Text(\n",
    "                text=self.right.get('text'),\n",
    "                x=[str(lw + (rw / 2) - 1)],\n",
    "                y=['14']\n",
    "            ))\n",
    "        elif self.style == 'flat round':\n",
    "            # left\n",
    "            lx = (lw / 2)  # + 1\n",
    "            group.add(svgwrite.text.Text(\n",
    "                text=self.left.get('text'),\n",
    "                x=[str(lx)],\n",
    "                y=['15'],\n",
    "                **{\"fill\": \"#010101\", \"fill-opacity\": \".3\"}\n",
    "            ))\n",
    "            group.add(svgwrite.text.Text(\n",
    "                text=self.left.get('text'),\n",
    "                x=[str(lx)],\n",
    "                y=['14']\n",
    "            ))\n",
    "\n",
    "            # right\n",
    "            lx = lw + (rw / 2) - 1\n",
    "            group.add(svgwrite.text.Text(\n",
    "                text=self.right.get('text'),\n",
    "                x=[str(lx)],\n",
    "                y=['15'],\n",
    "                **{\"fill\": \"#010101\", \"fill-opacity\": \".3\"}\n",
    "            ))\n",
    "            group.add(svgwrite.text.Text(\n",
    "                text=self.right.get('text'),\n",
    "                x=[str(lx)],\n",
    "                y=['14']\n",
    "            ))\n",
    "        elif self.style == 'plastic':\n",
    "            # left\n",
    "            lx = (lw / 2) + 1\n",
    "            group.add(svgwrite.text.Text(\n",
    "                text=self.left.get('text'),\n",
    "                x=[str(lx)],\n",
    "                y=['14'],\n",
    "                **{\"fill\": \"#010101\", \"fill-opacity\": \".3\"}\n",
    "            ))\n",
    "            group.add(svgwrite.text.Text(\n",
    "                text=self.left.get('text'),\n",
    "                x=[str(lx)],\n",
    "                y=['13']\n",
    "            ))\n",
    "\n",
    "            # right\n",
    "            lx = lw + (rw / 2) - 1\n",
    "            group.add(svgwrite.text.Text(\n",
    "                text=self.right.get('text'),\n",
    "                x=[str(lx)],\n",
    "                y=['14'],\n",
    "                **{\"fill\": \"#010101\", \"fill-opacity\": \".3\"}\n",
    "            ))\n",
    "            group.add(svgwrite.text.Text(\n",
    "                text=self.right.get('text'),\n",
    "                x=[str(lx)],\n",
    "                y=['13']\n",
    "            ))\n",
    "\n",
    "        return group\n",
    "\n",
    "    def generate_badge(self):\n",
    "        # now with styles\n",
    "        lw, rw, tw = self._calculate_widths()\n",
    "\n",
    "        # build the svg\n",
    "        extras = {\"xmlns\": \"http://www.w3.org/2000/svg\"}\n",
    "        if 'href' in self.left or 'href' in self.right:\n",
    "            extras[\"xmlns:xlink\"] = \"http://www.w3.org/1999/xlink\"\n",
    "        svg = svgwrite.container.SVG(\n",
    "            size=(tw, self._height),\n",
    "            **extras\n",
    "        )\n",
    "\n",
    "        if self.style in ['flat round', 'plastic']:\n",
    "            svg.add(self._generate_linear_gradient())\n",
    "\n",
    "            svg.add(self._generate_mask(tw))\n",
    "\n",
    "        svg.add(self._generate_background(lw, rw, tw))\n",
    "\n",
    "        svg.add(self._generate_text_group(lw, rw))\n",
    "\n",
    "        return svg.tostring()\n"
   ]
  },
  {
   "cell_type": "markdown",
   "metadata": {},
   "source": [
    "### The Design Options"
   ]
  },
  {
   "cell_type": "code",
   "execution_count": 24,
   "metadata": {
    "collapsed": true
   },
   "outputs": [],
   "source": [
    "# the left side, always esip\n",
    "_left = {\n",
    "    \"text\": \"ESIP\",\n",
    "    \"background\": \"#3FA1B9\",\n",
    "    \"href\": \"http://www.esipfed.org\"\n",
    "}"
   ]
  },
  {
   "cell_type": "code",
   "execution_count": 25,
   "metadata": {
    "collapsed": true
   },
   "outputs": [],
   "source": [
    "# the right side options\n",
    "right = {\n",
    "    \"text\": \"Funded\",\n",
    "    \"background\": \"#A1D3E4\"\n",
    "}\n"
   ]
  },
  {
   "cell_type": "code",
   "execution_count": 26,
   "metadata": {
    "collapsed": false
   },
   "outputs": [
    {
     "name": "stdout",
     "output_type": "stream",
     "text": [
      "<svg height=\"18\" width=\"94\" xmlns=\"http://www.w3.org/2000/svg\" xmlns:xlink=\"http://www.w3.org/1999/xlink\"><defs /><linearGradient id=\"b\" x2=\"0\" y2=\"100%\"><stop offset=\"0\" stop-color=\"#fff\" stop-opacity=\".7\" /><stop offset=\"0.1\" stop-color=\"#aaa\" stop-opacity=\".1\" /><stop offset=\"0.9\" stop-opacity=\".3\" /><stop offset=\"1\" stop-opacity=\".5\" /></linearGradient><mask id=\"a\"><rect fill=\"#fff\" height=\"18\" rx=\"4\" width=\"94\" x=\"0\" y=\"0\" /></mask><g mask=\"url(#a)\"><rect fill=\"#3FA1B9\" height=\"18\" width=\"40\" x=\"0\" y=\"0\" /><rect fill=\"#A1D3E4\" height=\"18\" width=\"54\" x=\"40\" y=\"0\" /><rect fill=\"url(#b)\" height=\"18\" width=\"94\" x=\"0\" y=\"0\" /></g><g fill=\"#fff\" font-family=\"DejaVu Sans,Verdana,Geneva,sans-serif\" font-size=\"11\" text-anchor=\"middle\"><text fill=\"#010101\" fill-opacity=\".3\" x=\"21\" y=\"14\">ESIP</text><text x=\"21\" y=\"13\">ESIP</text><text fill=\"#010101\" fill-opacity=\".3\" x=\"66\" y=\"14\">Funded</text><text x=\"66\" y=\"13\">Funded</text></g></svg>\n"
     ]
    },
    {
     "data": {
      "image/svg+xml": [
       "<svg height=\"18\" width=\"94\" xmlns=\"http://www.w3.org/2000/svg\" xmlns:xlink=\"http://www.w3.org/1999/xlink\"><defs/><linearGradient id=\"b\" x2=\"0\" y2=\"100%\"><stop offset=\"0\" stop-color=\"#fff\" stop-opacity=\".7\"/><stop offset=\"0.1\" stop-color=\"#aaa\" stop-opacity=\".1\"/><stop offset=\"0.9\" stop-opacity=\".3\"/><stop offset=\"1\" stop-opacity=\".5\"/></linearGradient><mask id=\"a\"><rect fill=\"#fff\" height=\"18\" rx=\"4\" width=\"94\" x=\"0\" y=\"0\"/></mask><g mask=\"url(#a)\"><rect fill=\"#3FA1B9\" height=\"18\" width=\"40\" x=\"0\" y=\"0\"/><rect fill=\"#A1D3E4\" height=\"18\" width=\"54\" x=\"40\" y=\"0\"/><rect fill=\"url(#b)\" height=\"18\" width=\"94\" x=\"0\" y=\"0\"/></g><g fill=\"#fff\" font-family=\"DejaVu Sans,Verdana,Geneva,sans-serif\" font-size=\"11\" text-anchor=\"middle\"><text fill=\"#010101\" fill-opacity=\".3\" x=\"21\" y=\"14\">ESIP</text><text x=\"21\" y=\"13\">ESIP</text><text fill=\"#010101\" fill-opacity=\".3\" x=\"66\" y=\"14\">Funded</text><text x=\"66\" y=\"13\">Funded</text></g></svg>"
      ],
      "text/plain": [
       "<IPython.core.display.SVG object>"
      ]
     },
     "execution_count": 26,
     "metadata": {},
     "output_type": "execute_result"
    }
   ],
   "source": [
    "badger = Badge(_left, right, style='plastic')\n",
    "svg = badger.generate_badge()\n",
    "\n",
    "print svg\n",
    "\n",
    "IPython.display.SVG(data=svg)"
   ]
  },
  {
   "cell_type": "code",
   "execution_count": null,
   "metadata": {
    "collapsed": true
   },
   "outputs": [],
   "source": []
  },
  {
   "cell_type": "code",
   "execution_count": null,
   "metadata": {
    "collapsed": true
   },
   "outputs": [],
   "source": []
  },
  {
   "cell_type": "code",
   "execution_count": 25,
   "metadata": {
    "collapsed": false
   },
   "outputs": [
    {
     "name": "stdout",
     "output_type": "stream",
     "text": [
      "<svg height=\"20\" width=\"94\" xmlns=\"http://www.w3.org/2000/svg\" xmlns:xlink=\"http://www.w3.org/1999/xlink\"><defs /><linearGradient id=\"b\" x2=\"0\" y2=\"100%\"><stop offset=\"0\" stop-color=\"#bbb\" stop-opacity=\".1\" /><stop offset=\"1\" stop-opacity=\".1\" /></linearGradient><mask id=\"a\"><rect fill=\"#fff\" height=\"20\" rx=\"3\" width=\"94\" x=\"0\" y=\"0\" /></mask><g mask=\"url(#a)\"><rect fill=\"#3FA1B9\" height=\"20\" width=\"40\" x=\"0\" y=\"0\" /><rect fill=\"#A1D3E4\" height=\"20\" width=\"54\" x=\"40\" y=\"0\" /><rect fill=\"url(#b)\" height=\"20\" width=\"94\" x=\"0\" y=\"0\" /></g><g fill=\"#fff\" font-family=\"DejaVu Sans,Verdana,Geneva,sans-serif\" font-size=\"11\" text-anchor=\"middle\"><text fill=\"#010101\" fill-opacity=\".3\" x=\"21\" y=\"15\">ESIP<a target=\"_blank\" xlink:href=\"http://www.esipfed.org\" /></text><text x=\"21\" y=\"14\">ESIP</text><text fill=\"#010101\" fill-opacity=\".3\" x=\"66\" y=\"15\">Funded</text><text x=\"66\" y=\"14\">Funded</text></g></svg>\n"
     ]
    }
   ],
   "source": [
    "print svg"
   ]
  },
  {
   "cell_type": "code",
   "execution_count": 6,
   "metadata": {
    "collapsed": false
   },
   "outputs": [
    {
     "data": {
      "image/svg+xml": [
       "<svg height=\"20\" width=\"94\" xmlns=\"http://www.w3.org/2000/svg\" xmlns:xlink=\"http://www.w3.org/1999/xlink\">\n",
       "<defs/>\n",
       "<style>\n",
       "    <![CDATA[\n",
       "    #llink:hover { fill:url(#b); stroke:#ccc; }\n",
       "    #rlink:hover { fill:#4183C4; }\n",
       "  ]]>\n",
       "    </style>\n",
       "<linearGradient id=\"b\" x2=\"0\" y2=\"100%\">\n",
       "<stop offset=\"0\" stop-color=\"#bbb\" stop-opacity=\".1\"/>\n",
       "<stop offset=\"1\" stop-opacity=\".1\"/>\n",
       "</linearGradient>\n",
       "<mask id=\"a\">\n",
       "<rect fill=\"#fff\" height=\"20\" rx=\"3\" width=\"94\" x=\"0\" y=\"0\"/>\n",
       "</mask>\n",
       "<g mask=\"url(#a)\">\n",
       "<rect fill=\"#3FA1B9\" height=\"20\" width=\"40\" x=\"0\" y=\"0\"/>\n",
       "<rect fill=\"#A1D3E4\" height=\"20\" width=\"54\" x=\"40\" y=\"0\"/>\n",
       "<rect fill=\"url(#b)\" height=\"20\" width=\"94\" x=\"0\" y=\"0\"/>\n",
       "</g>\n",
       "<g fill=\"#fff\" font-family=\"DejaVu Sans,Verdana,Geneva,sans-serif\" font-size=\"11\" text-anchor=\"middle\">\n",
       "<text fill=\"#010101\" fill-opacity=\".3\" x=\"21\" y=\"15\">ESIP</text>\n",
       "<text x=\"21\" y=\"14\">ESIP</text>\n",
       "<text fill=\"#010101\" fill-opacity=\".3\" x=\"66\" y=\"15\">Funded</text>\n",
       "<text x=\"66\" y=\"14\">Funded</text>\n",
       "</g>\n",
       "<a xlink:href=\"https://github.com/badges/shields/fork\">\n",
       "        <rect fill=\"url(#a)\" height=\"20\" id=\"llink\" rx=\"2\" stroke=\"#d5d5d5\" width=\"40\" x=\"0\" y=\"0\"/>\n",
       "    </a>\n",
       "</svg>"
      ],
      "text/plain": [
       "<IPython.core.display.SVG object>"
      ]
     },
     "execution_count": 6,
     "metadata": {},
     "output_type": "execute_result"
    }
   ],
   "source": [
    "svg = \"\"\"<svg height=\"20\" width=\"94\" xmlns=\"http://www.w3.org/2000/svg\" xmlns:xlink=\"http://www.w3.org/1999/xlink\">\n",
    "<defs />\n",
    "<style>\n",
    "    <![CDATA[\n",
    "    #llink:hover { fill:url(#b); stroke:#ccc; }\n",
    "    #rlink:hover { fill:#4183C4; }\n",
    "  ]]>\n",
    "    </style>\n",
    "<linearGradient id=\"b\" x2=\"0\" y2=\"100%\">\n",
    "<stop offset=\"0\" stop-color=\"#bbb\" stop-opacity=\".1\" />\n",
    "<stop offset=\"1\" stop-opacity=\".1\" />\n",
    "</linearGradient>\n",
    "<mask id=\"a\">\n",
    "<rect fill=\"#fff\" height=\"20\" rx=\"3\" width=\"94\" x=\"0\" y=\"0\" />\n",
    "</mask>\n",
    "<g mask=\"url(#a)\">\n",
    "<rect fill=\"#3FA1B9\" height=\"20\" width=\"40\" x=\"0\" y=\"0\" />\n",
    "<rect fill=\"#A1D3E4\" height=\"20\" width=\"54\" x=\"40\" y=\"0\" />\n",
    "<rect fill=\"url(#b)\" height=\"20\" width=\"94\" x=\"0\" y=\"0\" />\n",
    "</g>\n",
    "<g fill=\"#fff\" font-family=\"DejaVu Sans,Verdana,Geneva,sans-serif\" font-size=\"11\" text-anchor=\"middle\">\n",
    "<text fill=\"#010101\" fill-opacity=\".3\" x=\"21\" y=\"15\">ESIP</text>\n",
    "<text x=\"21\" y=\"14\">ESIP</text>\n",
    "<text fill=\"#010101\" fill-opacity=\".3\" x=\"66\" y=\"15\">Funded</text>\n",
    "<text x=\"66\" y=\"14\">Funded</text>\n",
    "</g>\n",
    "<a xlink:href=\"https://github.com/badges/shields/fork\">\n",
    "        <rect id=\"llink\" stroke=\"#d5d5d5\" fill=\"url(#a)\" height=\"20\" width=\"40\" x=\"0\" y=\"0\" rx=\"2\"/>\n",
    "    </a>\n",
    "</svg>\n",
    "\"\"\"\n",
    "\n",
    "IPython.display.SVG(data=svg)"
   ]
  },
  {
   "cell_type": "code",
   "execution_count": 3,
   "metadata": {
    "collapsed": false
   },
   "outputs": [
    {
     "data": {
      "image/svg+xml": [
       "<svg height=\"20\" width=\"90\" xmlns=\"http://www.w3.org/2000/svg\" xmlns:xlink=\"http://www.w3.org/1999/xlink\"><style><![CDATA[\n",
       "    #llink:hover { fill:url(#b); stroke:#ccc; }\n",
       "    #rlink:hover { fill:#4183C4; }\n",
       "  ]]></style><linearGradient id=\"a\" x2=\"0\" y2=\"100%\"><stop offset=\"0\" stop-color=\"#fcfcfc\" stop-opacity=\"0\"/><stop offset=\"1\" stop-opacity=\".1\"/></linearGradient><linearGradient id=\"b\" x2=\"0\" y2=\"100%\"><stop offset=\"0\" stop-color=\"#ccc\" stop-opacity=\".1\"/><stop offset=\"1\" stop-opacity=\".1\"/></linearGradient><g stroke=\"#d5d5d5\"><rect fill=\"#fcfcfc\" height=\"19\" rx=\"2\" stroke=\"none\" width=\"56\" x=\".5\" y=\".5\"/><rect fill=\"#fafafa\" height=\"19\" rx=\"2\" width=\"27\" x=\"62.5\" y=\".5\"/><path d=\"M62 7.5h.5v5H62z\" stroke=\"#fafafa\"/><path d=\"M62.5 6.5l-3 3v1l3 3\" fill=\"#fafafa\" stroke=\"d5d5d5\"/></g><image height=\"14\" width=\"14\" x=\"5\" xlink:href=\"data:image/svg+xml;base64,PHN2ZyB4bWxucz0iaHR0cDovL3d3dy53My5vcmcvMjAwMC9zdmciIHdpZHRoPSI0MCIgaGVpZ2h0PSI0MCIgdmlld0JveD0iMTIgMTIgNDAgNDAiPgo8cGF0aCBmaWxsPSIjMzMzMzMzIiBkPSJNMzIsMTMuNGMtMTAuNSwwLTE5LDguNS0xOSwxOWMwLDguNCw1LjUsMTUuNSwxMywxOGMxLDAuMiwxLjMtMC40LDEuMy0wLjljMC0wLjUsMC0xLjcsMC0zLjIgYy01LjMsMS4xLTYuNC0yLjYtNi40LTIuNkMyMCw0MS42LDE4LjgsNDEsMTguOCw0MWMtMS43LTEuMiwwLjEtMS4xLDAuMS0xLjFjMS45LDAuMSwyLjksMiwyLjksMmMxLjcsMi45LDQuNSwyLjEsNS41LDEuNiBjMC4yLTEuMiwwLjctMi4xLDEuMi0yLjZjLTQuMi0wLjUtOC43LTIuMS04LjctOS40YzAtMi4xLDAuNy0zLjcsMi01LjFjLTAuMi0wLjUtMC44LTIuNCwwLjItNWMwLDAsMS42LTAuNSw1LjIsMiBjMS41LTAuNCwzLjEtMC43LDQuOC0wLjdjMS42LDAsMy4zLDAuMiw0LjcsMC43YzMuNi0yLjQsNS4yLTIsNS4yLTJjMSwyLjYsMC40LDQuNiwwLjIsNWMxLjIsMS4zLDIsMywyLDUuMWMwLDcuMy00LjUsOC45LTguNyw5LjQgYzAuNywwLjYsMS4zLDEuNywxLjMsMy41YzAsMi42LDAsNC42LDAsNS4yYzAsMC41LDAuNCwxLjEsMS4zLDAuOWM3LjUtMi42LDEzLTkuNywxMy0xOC4xQzUxLDIxLjksNDIuNSwxMy40LDMyLDEzLjR6Ii8+Cjwvc3ZnPgo=\" y=\"3\"/><g fill=\"#333\" font-family=\"Helvetica Neue,Helvetica,Arial,sans-serif\" font-size=\"11\" font-weight=\"700\" text-anchor=\"middle\"><text fill=\"#fff\" x=\"36.5\" y=\"15\">Forks</text><text x=\"36.5\" y=\"14\">Forks</text><text fill=\"#fff\" x=\"75.5\" y=\"15\">288</text><a xlink:href=\"https://github.com/badges/shields/network\"><text id=\"rlink\" x=\"75.5\" y=\"14\">288</text></a></g><a xlink:href=\"https://github.com/badges/shields/fork\"><rect fill=\"url(#a)\" height=\"19\" id=\"llink\" rx=\"2\" stroke=\"#d5d5d5\" width=\"56\" x=\".5\" y=\".5\"/></a></svg>"
      ],
      "text/plain": [
       "<IPython.core.display.SVG object>"
      ]
     },
     "execution_count": 3,
     "metadata": {},
     "output_type": "execute_result"
    }
   ],
   "source": [
    "IPython.display.SVG(url=\"https://img.shields.io/github/forks/badges/shields.svg?style=social&amp;label=Fork\")"
   ]
  },
  {
   "cell_type": "code",
   "execution_count": null,
   "metadata": {
    "collapsed": true
   },
   "outputs": [],
   "source": [
    "<img src=\"https://img.shields.io/github/forks/badges/shields.svg?style=social&amp;label=Fork\" alt=\"\">\n",
    "\n",
    "\n",
    "# social with links\n",
    "<svg xmlns=\"http://www.w3.org/2000/svg\" xmlns:xlink=\"http://www.w3.org/1999/xlink\" width=\"90\" height=\"20\">\n",
    "    <style>\n",
    "    <![CDATA[\n",
    "    #llink:hover { fill:url(#b); stroke:#ccc; }\n",
    "    #rlink:hover { fill:#4183C4; }\n",
    "  ]]>\n",
    "    </style>\n",
    "    <linearGradient id=\"a\" x2=\"0\" y2=\"100%\">\n",
    "        <stop offset=\"0\" stop-color=\"#fcfcfc\" stop-opacity=\"0\"/>\n",
    "        <stop offset=\"1\" stop-opacity=\".1\"/>\n",
    "    </linearGradient>\n",
    "    <linearGradient id=\"b\" x2=\"0\" y2=\"100%\">\n",
    "        <stop offset=\"0\" stop-color=\"#ccc\" stop-opacity=\".1\"/>\n",
    "        <stop offset=\"1\" stop-opacity=\".1\"/>\n",
    "    </linearGradient>\n",
    "    <g stroke=\"#d5d5d5\">\n",
    "        <rect stroke=\"none\" fill=\"#fcfcfc\" x=\".5\" y=\".5\" width=\"56\" height=\"19\" rx=\"2\"/>\n",
    "        <rect y=\".5\" x=\"62.5\" width=\"27\" height=\"19\" rx=\"2\" fill=\"#fafafa\"/>\n",
    "        <path stroke=\"#fafafa\" d=\"M62 7.5h.5v5H62z\"/>\n",
    "        <path d=\"M62.5 6.5l-3 3v1l3 3\" stroke=\"d5d5d5\" fill=\"#fafafa\"/>\n",
    "    </g>\n",
    "    <image x=\"5\" y=\"3\" width=\"14\" height=\"14\" xlink:href=\"\"/>\n",
    "    <g fill=\"#333\" text-anchor=\"middle\" font-family=\"Helvetica Neue,Helvetica,Arial,sans-serif\" font-weight=\"700\" font-size=\"11\">\n",
    "        <text x=\"36.5\" y=\"15\" fill=\"#fff\">Forks</text>\n",
    "        <text x=\"36.5\" y=\"14\">Forks</text>\n",
    "        <text x=\"75.5\" y=\"15\" fill=\"#fff\">288</text>\n",
    "        <a xlink:href=\"https://github.com/badges/shields/network\">\n",
    "            <text id=\"rlink\" x=\"75.5\" y=\"14\">288</text>\n",
    "        </a>\n",
    "    </g>\n",
    "    <a xlink:href=\"https://github.com/badges/shields/fork\">\n",
    "        <rect id=\"llink\" stroke=\"#d5d5d5\" fill=\"url(#a)\" x=\".5\" y=\".5\" width=\"56\" height=\"19\" rx=\"2\"/>\n",
    "    </a>\n",
    "</svg>\n",
    "\n",
    "# plastic style\n",
    "<svg xmlns=\"http://www.w3.org/2000/svg\" width=\"83\" height=\"18\">\n",
    "    <linearGradient id=\"b\" x2=\"0\" y2=\"100%\">\n",
    "        <stop offset=\"0\" stop-color=\"#fff\" stop-opacity=\".7\"/>\n",
    "        <stop offset=\".1\" stop-color=\"#aaa\" stop-opacity=\".1\"/>\n",
    "        <stop offset=\".9\" stop-opacity=\".3\"/>\n",
    "        <stop offset=\"1\" stop-opacity=\".5\"/>\n",
    "    </linearGradient>\n",
    "    <mask id=\"a\">\n",
    "        <rect width=\"83\" height=\"18\" rx=\"4\" fill=\"#fff\"/>\n",
    "    </mask>\n",
    "    <g mask=\"url(#a)\">\n",
    "        <path fill=\"#555\" d=\"M0 0h37v18H0z\"/>\n",
    "        <path fill=\"#97CA00\" d=\"M37 0h46v18H37z\"/>\n",
    "        <path fill=\"url(#b)\" d=\"M0 0h83v18H0z\"/>\n",
    "    </g>\n",
    "    <g fill=\"#fff\" text-anchor=\"middle\" font-family=\"DejaVu Sans,Verdana,Geneva,sans-serif\" font-size=\"11\">\n",
    "        <text x=\"19.5\" y=\"14\" fill=\"#010101\" fill-opacity=\".3\">style</text>\n",
    "        <text x=\"19.5\" y=\"13\">style</text>\n",
    "        <text x=\"59\" y=\"14\" fill=\"#010101\" fill-opacity=\".3\">plastic</text>\n",
    "        <text x=\"59\" y=\"13\">plastic</text>\n",
    "    </g>\n",
    "</svg>\n",
    "\n",
    "# flat square\n",
    "<svg xmlns=\"http://www.w3.org/2000/svg\" width=\"116\" height=\"20\">\n",
    "    <g shape-rendering=\"crispEdges\">\n",
    "        <path fill=\"#555\" d=\"M0 0h37v20H0z\"/>\n",
    "        <path fill=\"#97CA00\" d=\"M37 0h79v20H37z\"/>\n",
    "    </g>\n",
    "    <g fill=\"#fff\" text-anchor=\"middle\" font-family=\"DejaVu Sans,Verdana,Geneva,sans-serif\" font-size=\"11\">\n",
    "        <text x=\"19.5\" y=\"14\">style</text>\n",
    "        <text x=\"75.5\" y=\"14\">flat-squared</text>\n",
    "    </g>\n",
    "</svg>\n",
    "\n",
    "# flat rounded (default)\n",
    "<svg xmlns=\"http://www.w3.org/2000/svg\" width=\"65\" height=\"20\">\n",
    "    <linearGradient id=\"b\" x2=\"0\" y2=\"100%\">\n",
    "        <stop offset=\"0\" stop-color=\"#bbb\" stop-opacity=\".1\"/>\n",
    "        <stop offset=\"1\" stop-opacity=\".1\"/>\n",
    "    </linearGradient>\n",
    "    <mask id=\"a\">\n",
    "        <rect width=\"65\" height=\"20\" rx=\"3\" fill=\"#fff\"/>\n",
    "    </mask>\n",
    "    <g mask=\"url(#a)\">\n",
    "        <path fill=\"#555\" d=\"M0 0h37v20H0z\"/>\n",
    "        <path fill=\"#97CA00\" d=\"M37 0h28v20H37z\"/>\n",
    "        <path fill=\"url(#b)\" d=\"M0 0h65v20H0z\"/>\n",
    "    </g>\n",
    "    <g fill=\"#fff\" text-anchor=\"middle\" font-family=\"DejaVu Sans,Verdana,Geneva,sans-serif\" font-size=\"11\">\n",
    "        <text x=\"18.5\" y=\"15\" fill=\"#010101\" fill-opacity=\".3\">style</text>\n",
    "        <text x=\"18.5\" y=\"14\">style</text>\n",
    "        <text x=\"50\" y=\"15\" fill=\"#010101\" fill-opacity=\".3\">flat</text>\n",
    "        <text x=\"50\" y=\"14\">flat</text>\n",
    "    </g>\n",
    "</svg>"
   ]
  }
 ],
 "metadata": {
  "kernelspec": {
   "display_name": "Python 2",
   "language": "python",
   "name": "python2"
  },
  "language_info": {
   "codemirror_mode": {
    "name": "ipython",
    "version": 2
   },
   "file_extension": ".py",
   "mimetype": "text/x-python",
   "name": "python",
   "nbconvert_exporter": "python",
   "pygments_lexer": "ipython2",
   "version": "2.7.10"
  }
 },
 "nbformat": 4,
 "nbformat_minor": 0
}
